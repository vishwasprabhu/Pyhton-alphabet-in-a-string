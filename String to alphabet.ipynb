{
 "cells": [
  {
   "cell_type": "markdown",
   "metadata": {},
   "source": [
    "# Alphabet in a string"
   ]
  },
  {
   "cell_type": "markdown",
   "metadata": {},
   "source": [
    "Here two methods are portrayed. *Please enter your name and only include A-Z or a-z alphabets. Special characters won't be counted*"
   ]
  },
  {
   "cell_type": "code",
   "execution_count": 1,
   "metadata": {},
   "outputs": [
    {
     "name": "stdout",
     "output_type": "stream",
     "text": [
      "Enter your name:Vishwas prabhu\n"
     ]
    }
   ],
   "source": [
    "str=input('Enter your name:')"
   ]
  },
  {
   "cell_type": "code",
   "execution_count": 2,
   "metadata": {},
   "outputs": [
    {
     "data": {
      "text/plain": [
       "str"
      ]
     },
     "execution_count": 2,
     "metadata": {},
     "output_type": "execute_result"
    }
   ],
   "source": [
    "type(str)"
   ]
  },
  {
   "cell_type": "code",
   "execution_count": 3,
   "metadata": {},
   "outputs": [],
   "source": [
    "str = str.lower()"
   ]
  },
  {
   "cell_type": "markdown",
   "metadata": {},
   "source": [
    "## **Method 1:** Using looping and ASCII values to count alphabets"
   ]
  },
  {
   "cell_type": "code",
   "execution_count": 4,
   "metadata": {},
   "outputs": [
    {
     "name": "stdout",
     "output_type": "stream",
     "text": [
      "[2, 1, 0, 0, 0, 0, 0, 2, 1, 0, 0, 0, 0, 0, 0, 1, 0, 1, 2, 0, 1, 1, 1, 0, 0, 0]\n",
      "[{'a': 2, 'b': 1, 'c': 0, 'd': 0, 'e': 0, 'f': 0, 'g': 0, 'h': 2, 'i': 1, 'j': 0, 'k': 0, 'l': 0, 'm': 0, 'n': 0, 'o': 0, 'p': 1, 'q': 0, 'r': 1, 's': 2, 't': 0, 'u': 1, 'v': 1, 'w': 1, 'x': 0, 'y': 0, 'z': 0}]\n"
     ]
    }
   ],
   "source": [
    "from string import ascii_lowercase\n",
    "arr=[0 for i in range(26)]\n",
    "vrr=[0 for i in range(len(str))]\n",
    "j=0\n",
    "for c in ascii_lowercase:\n",
    "    #print(c)\n",
    "    for i in range(len(str)):\n",
    "        if c==str[i]:\n",
    "            arr[j]+=1\n",
    "    j=j+1\n",
    "print(arr)\n",
    "keys=[c for c in ascii_lowercase]\n",
    "dict=[dict(zip(keys,arr))]\n",
    "print(dict)"
   ]
  },
  {
   "cell_type": "markdown",
   "metadata": {},
   "source": [
    "## Method 2: Using collections package"
   ]
  },
  {
   "cell_type": "markdown",
   "metadata": {},
   "source": [
    "*This method allows for special characters as well*"
   ]
  },
  {
   "cell_type": "code",
   "execution_count": 13,
   "metadata": {},
   "outputs": [
    {
     "name": "stdout",
     "output_type": "stream",
     "text": [
      "Enter your name:Vishwas Prabhu\n"
     ]
    }
   ],
   "source": [
    "str1=input('Enter your name:')"
   ]
  },
  {
   "cell_type": "code",
   "execution_count": 14,
   "metadata": {},
   "outputs": [
    {
     "name": "stdout",
     "output_type": "stream",
     "text": [
      "defaultdict(<class 'int'>, {'V': 1, 'i': 1, 's': 2, 'h': 2, 'w': 1, 'a': 2, ' ': 1, 'P': 1, 'r': 1, 'b': 1, 'u': 1})\n",
      "defaultdict(<class 'int'>, {'V': 1, 'i': 1, 's': 2, 'h': 2, 'w': 1, 'a': 2, ' ': 1, 'P': 1, 'r': 1, 'b': 1, 'u': 1})\n",
      "defaultdict(<class 'int'>, {'V': 1, 'i': 1, 's': 2, 'h': 2, 'w': 1, 'a': 2, ' ': 1, 'P': 1, 'r': 1, 'b': 1, 'u': 1})\n"
     ]
    }
   ],
   "source": [
    "import collections\n",
    "d = collections.defaultdict(int)\n",
    "for c in str1:\n",
    "    d[c]+=1\n",
    "for c in d: #sorted(d, key=d.get, reverse=True):\n",
    "    if d[c]>1:\n",
    "        print(d)"
   ]
  },
  {
   "cell_type": "code",
   "execution_count": null,
   "metadata": {},
   "outputs": [],
   "source": []
  }
 ],
 "metadata": {
  "kernelspec": {
   "display_name": "Python 3",
   "language": "python",
   "name": "python3"
  },
  "language_info": {
   "codemirror_mode": {
    "name": "ipython",
    "version": 3
   },
   "file_extension": ".py",
   "mimetype": "text/x-python",
   "name": "python",
   "nbconvert_exporter": "python",
   "pygments_lexer": "ipython3",
   "version": "3.7.4"
  }
 },
 "nbformat": 4,
 "nbformat_minor": 2
}
